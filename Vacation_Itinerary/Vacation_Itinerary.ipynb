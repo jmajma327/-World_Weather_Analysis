{
 "cells": [
  {
   "cell_type": "markdown",
   "metadata": {},
   "source": [
    "# Deliverable 3. Create a Travel Itinerary Map."
   ]
  },
  {
   "cell_type": "code",
   "execution_count": 34,
   "metadata": {},
   "outputs": [],
   "source": [
    "# Dependencies and Setup\n",
    "import pandas as pd\n",
    "import requests\n",
    "import gmaps\n",
    "import gmaps.datasets\n",
    "import numpy as np\n",
    "\n",
    "# Import API key\n",
    "from config import g_key\n",
    "\n",
    "# Configure gmaps\n",
    "gmaps.configure(api_key=g_key)"
   ]
  },
  {
   "cell_type": "code",
   "execution_count": 35,
   "metadata": {},
   "outputs": [
    {
     "data": {
      "text/html": [
       "<div>\n",
       "<style scoped>\n",
       "    .dataframe tbody tr th:only-of-type {\n",
       "        vertical-align: middle;\n",
       "    }\n",
       "\n",
       "    .dataframe tbody tr th {\n",
       "        vertical-align: top;\n",
       "    }\n",
       "\n",
       "    .dataframe thead th {\n",
       "        text-align: right;\n",
       "    }\n",
       "</style>\n",
       "<table border=\"1\" class=\"dataframe\">\n",
       "  <thead>\n",
       "    <tr style=\"text-align: right;\">\n",
       "      <th></th>\n",
       "      <th>City_ID</th>\n",
       "      <th>City</th>\n",
       "      <th>Country</th>\n",
       "      <th>Max Temp</th>\n",
       "      <th>Current Weather</th>\n",
       "      <th>Lat</th>\n",
       "      <th>Lng</th>\n",
       "      <th>Hotel Name</th>\n",
       "    </tr>\n",
       "  </thead>\n",
       "  <tbody>\n",
       "    <tr>\n",
       "      <th>0</th>\n",
       "      <td>0</td>\n",
       "      <td>Lockport</td>\n",
       "      <td>US</td>\n",
       "      <td>88.00</td>\n",
       "      <td>Clear</td>\n",
       "      <td>41.59</td>\n",
       "      <td>-88.06</td>\n",
       "      <td>Big Run Wolf Ranch</td>\n",
       "    </tr>\n",
       "    <tr>\n",
       "      <th>1</th>\n",
       "      <td>5</td>\n",
       "      <td>Candido Mendes</td>\n",
       "      <td>BR</td>\n",
       "      <td>76.19</td>\n",
       "      <td>Clouds</td>\n",
       "      <td>-1.45</td>\n",
       "      <td>-45.72</td>\n",
       "      <td>Quebrada Do Mlk PJL</td>\n",
       "    </tr>\n",
       "    <tr>\n",
       "      <th>2</th>\n",
       "      <td>6</td>\n",
       "      <td>Porto Walter</td>\n",
       "      <td>BR</td>\n",
       "      <td>78.06</td>\n",
       "      <td>Clouds</td>\n",
       "      <td>-8.27</td>\n",
       "      <td>-72.74</td>\n",
       "      <td>Hotel Silva</td>\n",
       "    </tr>\n",
       "    <tr>\n",
       "      <th>3</th>\n",
       "      <td>8</td>\n",
       "      <td>Portland</td>\n",
       "      <td>US</td>\n",
       "      <td>82.99</td>\n",
       "      <td>Clear</td>\n",
       "      <td>45.52</td>\n",
       "      <td>-122.68</td>\n",
       "      <td>Portland Marriott City Center</td>\n",
       "    </tr>\n",
       "    <tr>\n",
       "      <th>4</th>\n",
       "      <td>9</td>\n",
       "      <td>Ixtapa</td>\n",
       "      <td>MX</td>\n",
       "      <td>86.00</td>\n",
       "      <td>Clouds</td>\n",
       "      <td>20.70</td>\n",
       "      <td>-105.20</td>\n",
       "      <td>Container Inn Puerto Vallarta</td>\n",
       "    </tr>\n",
       "  </tbody>\n",
       "</table>\n",
       "</div>"
      ],
      "text/plain": [
       "   City_ID            City Country  Max Temp Current Weather    Lat     Lng  \\\n",
       "0        0        Lockport      US     88.00           Clear  41.59  -88.06   \n",
       "1        5  Candido Mendes      BR     76.19          Clouds  -1.45  -45.72   \n",
       "2        6    Porto Walter      BR     78.06          Clouds  -8.27  -72.74   \n",
       "3        8        Portland      US     82.99           Clear  45.52 -122.68   \n",
       "4        9          Ixtapa      MX     86.00          Clouds  20.70 -105.20   \n",
       "\n",
       "                      Hotel Name  \n",
       "0             Big Run Wolf Ranch  \n",
       "1            Quebrada Do Mlk PJL  \n",
       "2                    Hotel Silva  \n",
       "3  Portland Marriott City Center  \n",
       "4  Container Inn Puerto Vallarta  "
      ]
     },
     "execution_count": 35,
     "metadata": {},
     "output_type": "execute_result"
    }
   ],
   "source": [
    "# 1. Read the WeatherPy_vacation.csv into a DataFrame.\n",
    "vacation_df = pd.read_csv(\"../Vacation_Search/WeatherPy_vacation.csv\")\n",
    "vacation_df.head()"
   ]
  },
  {
   "cell_type": "code",
   "execution_count": 37,
   "metadata": {},
   "outputs": [],
   "source": [
    "# 2. Using the template add the city name, the country code, the weather description and maximum temperature for the city.\n",
    "info_box_template = \"\"\"\n",
    "<dl>\n",
    "<dt>Hotel Name</dt><dd>{Hotel Name}</dd>\n",
    "<dt>City</dt><dd>{City}</dd>\n",
    "<dt>Country</dt><dd>{Country}</dd>\n",
    "<dt>Current Weather</dt><dd>{Current Weather}</dd>\n",
    "<dt>Max Temp</dt><dd>{Max Temp} °F</dd>\n",
    "</dl>\n",
    "\"\"\"\n",
    "\n",
    "# 3a. Get the data from each row and add it to the formatting template and store the data in a list.\n",
    "hotel_info = [info_box_template.format(**row) for index, row in vacation_df.iterrows()]\n",
    "\n",
    "# 3b. Get the latitude and longitude from each row and store in a new DataFrame.\n",
    "locations = vacation_df[[\"Lat\", \"Lng\"]]"
   ]
  },
  {
   "cell_type": "code",
   "execution_count": 38,
   "metadata": {},
   "outputs": [
    {
     "data": {
      "application/vnd.jupyter.widget-view+json": {
       "model_id": "181d626873c04a31b98ad2c2421338a8",
       "version_major": 2,
       "version_minor": 0
      },
      "text/plain": [
       "Figure(layout=FigureLayout(height='420px'))"
      ]
     },
     "metadata": {},
     "output_type": "display_data"
    }
   ],
   "source": [
    "# 4a. Add a marker layer for each city to the map.\n",
    "fig = gmaps.figure(center=(30.0, 31.0), zoom_level=1.5)\n",
    "marker_layer = gmaps.marker_layer(locations, info_box_content=hotel_info)\n",
    "fig.add_layer(marker_layer)\n",
    "\n",
    "# 4b. Display the figure\n",
    "fig\n",
    "\n"
   ]
  },
  {
   "cell_type": "code",
   "execution_count": 47,
   "metadata": {},
   "outputs": [
    {
     "data": {
      "text/html": [
       "<div>\n",
       "<style scoped>\n",
       "    .dataframe tbody tr th:only-of-type {\n",
       "        vertical-align: middle;\n",
       "    }\n",
       "\n",
       "    .dataframe tbody tr th {\n",
       "        vertical-align: top;\n",
       "    }\n",
       "\n",
       "    .dataframe thead th {\n",
       "        text-align: right;\n",
       "    }\n",
       "</style>\n",
       "<table border=\"1\" class=\"dataframe\">\n",
       "  <thead>\n",
       "    <tr style=\"text-align: right;\">\n",
       "      <th></th>\n",
       "      <th>City_ID</th>\n",
       "      <th>City</th>\n",
       "      <th>Country</th>\n",
       "      <th>Max Temp</th>\n",
       "      <th>Current Weather</th>\n",
       "      <th>Lat</th>\n",
       "      <th>Lng</th>\n",
       "      <th>Hotel Name</th>\n",
       "    </tr>\n",
       "  </thead>\n",
       "  <tbody>\n",
       "    <tr>\n",
       "      <th>135</th>\n",
       "      <td>403</td>\n",
       "      <td>San Patricio</td>\n",
       "      <td>MX</td>\n",
       "      <td>82.4</td>\n",
       "      <td>Clouds</td>\n",
       "      <td>19.22</td>\n",
       "      <td>-104.7</td>\n",
       "      <td>Hotel Cabo Blanco</td>\n",
       "    </tr>\n",
       "  </tbody>\n",
       "</table>\n",
       "</div>"
      ],
      "text/plain": [
       "     City_ID          City Country  Max Temp Current Weather    Lat    Lng  \\\n",
       "135      403  San Patricio      MX      82.4          Clouds  19.22 -104.7   \n",
       "\n",
       "            Hotel Name  \n",
       "135  Hotel Cabo Blanco  "
      ]
     },
     "execution_count": 47,
     "metadata": {},
     "output_type": "execute_result"
    }
   ],
   "source": [
    "# From the map above pick 4 cities and create a vacation itinerary route to travel between the four cities. \n",
    "# 5. Create DataFrames for each city by filtering the 'vacation_df' using the loc method. \n",
    "# Hint: The starting and ending city should be the same city.\n",
    "vacation_start = vacation_df.loc[vacation_df[\"City\"] == \"Lazaro Cardenas\", :]\n",
    "vacation_end = vacation_df.loc[vacation_df[\"City\"] == \"Lazaro Cardenas\", :]\n",
    "vacation_stop1 = vacation_df.loc[vacation_df[\"City\"] == \"Ixtapa\", :]\n",
    "vacation_stop2 = vacation_df.loc[vacation_df[\"City\"] == \"Tomatlan\", :]\n",
    "vacation_stop3 = vacation_df.loc[vacation_df[\"City\"] == \"San Patricio\", :]\n",
    "vacation_stop3\n"
   ]
  },
  {
   "cell_type": "code",
   "execution_count": 48,
   "metadata": {},
   "outputs": [
    {
     "name": "stdout",
     "output_type": "stream",
     "text": [
      "(array([17.96]), array([-102.2]))\n",
      "(array([20.7]), array([-105.2]))\n",
      "(array([19.93]), array([-105.25]))\n",
      "(array([19.22]), array([-104.7]))\n"
     ]
    }
   ],
   "source": [
    "# 6. Get the latitude-longitude pairs as tuples from each city DataFrame using the to_numpy function and list indexing.\n",
    "start = vacation_start[\"Lat\"].to_numpy(), vacation_start[\"Lng\"].to_numpy()\n",
    "end = vacation_end[\"Lat\"].to_numpy(), vacation_end[\"Lng\"].to_numpy()\n",
    "stop1 = vacation_stop1[\"Lat\"].to_numpy(), vacation_stop1[\"Lng\"].to_numpy()\n",
    "stop2 = vacation_stop2[\"Lat\"].to_numpy(), vacation_stop2[\"Lng\"].to_numpy()\n",
    "stop3 = vacation_stop3[\"Lat\"].to_numpy(), vacation_stop3[\"Lng\"].to_numpy()\n",
    "print(start)\n",
    "print(stop1)\n",
    "print(stop2)\n",
    "print(stop3)"
   ]
  },
  {
   "cell_type": "code",
   "execution_count": 55,
   "metadata": {},
   "outputs": [
    {
     "data": {
      "application/vnd.jupyter.widget-view+json": {
       "model_id": "4177cd477f044960b461faf20e36144e",
       "version_major": 2,
       "version_minor": 0
      },
      "text/plain": [
       "Figure(layout=FigureLayout(height='420px'))"
      ]
     },
     "metadata": {},
     "output_type": "display_data"
    }
   ],
   "source": [
    "# 7. Create a direction layer map using the start and end latitude-longitude pairs,\n",
    "# and stop1, stop2, and stop3 as the waypoints. The travel_mode should be \"DRIVING\", \"BICYCLING\", or \"WALKING\".\n",
    "\n",
    "Lazaro_Cardenas = (17.96, -102.2)\n",
    "Ixtapa = (20.7, -105.2)\n",
    "Tomatlan = (19.93, -105.25)\n",
    "San_Patricio = (19.22, -104.7)\n",
    "fig = gmaps.figure()\n",
    "mexico_vacation = gmaps.directions_layer(\n",
    "        Lazaro_Cardenas, Lazaro_Cardenas, waypoints=[Ixtapa,Tomatlan,San_Patricio,],\n",
    "        travel_mode='DRIVING')\n",
    "fig.add_layer(mexico_vacation)\n",
    "fig"
   ]
  },
  {
   "cell_type": "code",
   "execution_count": 56,
   "metadata": {},
   "outputs": [
    {
     "data": {
      "text/html": [
       "<div>\n",
       "<style scoped>\n",
       "    .dataframe tbody tr th:only-of-type {\n",
       "        vertical-align: middle;\n",
       "    }\n",
       "\n",
       "    .dataframe tbody tr th {\n",
       "        vertical-align: top;\n",
       "    }\n",
       "\n",
       "    .dataframe thead th {\n",
       "        text-align: right;\n",
       "    }\n",
       "</style>\n",
       "<table border=\"1\" class=\"dataframe\">\n",
       "  <thead>\n",
       "    <tr style=\"text-align: right;\">\n",
       "      <th></th>\n",
       "      <th>City_ID</th>\n",
       "      <th>City</th>\n",
       "      <th>Country</th>\n",
       "      <th>Max Temp</th>\n",
       "      <th>Current Weather</th>\n",
       "      <th>Lat</th>\n",
       "      <th>Lng</th>\n",
       "      <th>Hotel Name</th>\n",
       "    </tr>\n",
       "  </thead>\n",
       "  <tbody>\n",
       "    <tr>\n",
       "      <th>0</th>\n",
       "      <td>697</td>\n",
       "      <td>Lazaro Cardenas</td>\n",
       "      <td>MX</td>\n",
       "      <td>76.50</td>\n",
       "      <td>Rain</td>\n",
       "      <td>17.96</td>\n",
       "      <td>-102.20</td>\n",
       "      <td>Collection O Hotel Quinta Antigua</td>\n",
       "    </tr>\n",
       "    <tr>\n",
       "      <th>1</th>\n",
       "      <td>9</td>\n",
       "      <td>Ixtapa</td>\n",
       "      <td>MX</td>\n",
       "      <td>86.00</td>\n",
       "      <td>Clouds</td>\n",
       "      <td>20.70</td>\n",
       "      <td>-105.20</td>\n",
       "      <td>Container Inn Puerto Vallarta</td>\n",
       "    </tr>\n",
       "    <tr>\n",
       "      <th>2</th>\n",
       "      <td>690</td>\n",
       "      <td>Tomatlan</td>\n",
       "      <td>MX</td>\n",
       "      <td>82.42</td>\n",
       "      <td>Rain</td>\n",
       "      <td>19.93</td>\n",
       "      <td>-105.25</td>\n",
       "      <td>Norma franco</td>\n",
       "    </tr>\n",
       "    <tr>\n",
       "      <th>3</th>\n",
       "      <td>403</td>\n",
       "      <td>San Patricio</td>\n",
       "      <td>MX</td>\n",
       "      <td>82.40</td>\n",
       "      <td>Clouds</td>\n",
       "      <td>19.22</td>\n",
       "      <td>-104.70</td>\n",
       "      <td>Hotel Cabo Blanco</td>\n",
       "    </tr>\n",
       "  </tbody>\n",
       "</table>\n",
       "</div>"
      ],
      "text/plain": [
       "   City_ID             City Country  Max Temp Current Weather    Lat     Lng  \\\n",
       "0      697  Lazaro Cardenas      MX     76.50            Rain  17.96 -102.20   \n",
       "1        9           Ixtapa      MX     86.00          Clouds  20.70 -105.20   \n",
       "2      690         Tomatlan      MX     82.42            Rain  19.93 -105.25   \n",
       "3      403     San Patricio      MX     82.40          Clouds  19.22 -104.70   \n",
       "\n",
       "                          Hotel Name  \n",
       "0  Collection O Hotel Quinta Antigua  \n",
       "1      Container Inn Puerto Vallarta  \n",
       "2                       Norma franco  \n",
       "3                  Hotel Cabo Blanco  "
      ]
     },
     "execution_count": 56,
     "metadata": {},
     "output_type": "execute_result"
    }
   ],
   "source": [
    "# 8. To create a marker layer map between the four cities.\n",
    "#  Combine the four city DataFrames into one DataFrame using the concat() function.\n",
    "itinerary_df = pd.concat([vacation_start, vacation_stop1, vacation_stop2, vacation_stop3],ignore_index=True)\n",
    "itinerary_df"
   ]
  },
  {
   "cell_type": "code",
   "execution_count": 57,
   "metadata": {},
   "outputs": [],
   "source": [
    "# 9 Using the template add city name, the country code, the weather description and maximum temperature for the city. \n",
    "info_box_template = \"\"\"\n",
    "<dl>\n",
    "<dt>Hotel Name</dt><dd>{Hotel Name}</dd>\n",
    "<dt>City</dt><dd>{City}</dd>\n",
    "<dt>Country</dt><dd>{Country}</dd>\n",
    "<dt>Current Weather</dt><dd>{Current Weather}</dd>\n",
    "<dt>Max Temp</dt><dd>{Max Temp} °F</dd>\n",
    "</dl>\n",
    "\"\"\"\n",
    "\n",
    "# 10a Get the data from each row and add it to the formatting template and store the data in a list.\n",
    "hotel_info = [info_box_template.format(**row) for index, row in itinerary_df.iterrows()]\n",
    "\n",
    "# 10b. Get the latitude and longitude from each row and store in a new DataFrame.\n",
    "locations = itinerary_df[[\"Lat\", \"Lng\"]]"
   ]
  },
  {
   "cell_type": "code",
   "execution_count": 60,
   "metadata": {},
   "outputs": [
    {
     "data": {
      "application/vnd.jupyter.widget-view+json": {
       "model_id": "d7089a48cb644f0b89d57cb2593c8ada",
       "version_major": 2,
       "version_minor": 0
      },
      "text/plain": [
       "Figure(layout=FigureLayout(height='420px'))"
      ]
     },
     "metadata": {},
     "output_type": "display_data"
    }
   ],
   "source": [
    "# 11a. Add a marker layer for each city to the map.\n",
    "fig = gmaps.figure(center=(30.0, 31.0), zoom_level=1.5)\n",
    "marker_layer = gmaps.marker_layer(locations, info_box_content=hotel_info)\n",
    "fig.add_layer(marker_layer)\n",
    "\n",
    "# 11b. Display the figure\n",
    "fig"
   ]
  },
  {
   "cell_type": "code",
   "execution_count": null,
   "metadata": {},
   "outputs": [],
   "source": []
  }
 ],
 "metadata": {
  "kernelspec": {
   "display_name": "PythonData",
   "language": "python",
   "name": "pythondata"
  },
  "language_info": {
   "codemirror_mode": {
    "name": "ipython",
    "version": 3
   },
   "file_extension": ".py",
   "mimetype": "text/x-python",
   "name": "python",
   "nbconvert_exporter": "python",
   "pygments_lexer": "ipython3",
   "version": "3.8.5"
  },
  "latex_envs": {
   "LaTeX_envs_menu_present": true,
   "autoclose": false,
   "autocomplete": true,
   "bibliofile": "biblio.bib",
   "cite_by": "apalike",
   "current_citInitial": 1,
   "eqLabelWithNumbers": true,
   "eqNumInitial": 1,
   "hotkeys": {
    "equation": "Ctrl-E",
    "itemize": "Ctrl-I"
   },
   "labels_anchors": false,
   "latex_user_defs": false,
   "report_style_numbering": false,
   "user_envs_cfg": false
  }
 },
 "nbformat": 4,
 "nbformat_minor": 2
}
